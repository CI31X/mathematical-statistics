{
 "cells": [
  {
   "cell_type": "code",
   "execution_count": 109,
   "metadata": {},
   "outputs": [],
   "source": [
    "import random\n",
    "import statistics\n",
    "import numpy, math\n",
    "import scipy.stats\n",
    "import sympy\n",
    "def trapezoidal(f, a, b, n):\n",
    "    \"\"\" \n",
    "    Вычисляет приближенное значение интеграла с помощью формулы трапеций\n",
    "    f - подынтегральная функция\n",
    "    a, b - пределы интегрирования\n",
    "    n - количество частичных отрезков\n",
    "    \"\"\"\n",
    "    h = float(b - a)/n\n",
    "    result = 0.5*(f(a) + f(b))\n",
    "    for i in range(1, n):\n",
    "        result += f(a + i*h)\n",
    "    result *= h\n",
    "    return result"
   ]
  },
  {
   "cell_type": "code",
   "execution_count": 110,
   "metadata": {},
   "outputs": [],
   "source": [
    "#находим квантили для нормального распределения (0,1)\n",
    "beta = 0.95\n",
    "mu = 0\n",
    "sigma = 1\n",
    "norm_rv = scipy.stats.norm(loc=mu, scale=sigma)\n",
    "x = -10\n",
    "while abs(norm_rv.cdf(x)-(1-beta)/2)>0.0001:\n",
    "    x+=0.001\n",
    "quantile_norm_2 = -x\n",
    "quantile_norm_1 = x"
   ]
  },
  {
   "cell_type": "code",
   "execution_count": 130,
   "metadata": {},
   "outputs": [
    {
     "name": "stdout",
     "output_type": "stream",
     "text": [
      "I = 25069226 ;M_I = 24997500.0 ;D_I = 27777777777.77778\n",
      "a = 0.430356\n"
     ]
    }
   ],
   "source": [
    "size = 10000\n",
    "sample = [random.randint(0,size-1) for _ in range(size)]\n",
    "#sample = [13,68,86,67,10,76,1,48,29,61]\n",
    "#print(sample)\n",
    "I = 0\n",
    "for i in range(size):\n",
    "    for j in range(i,size):\n",
    "        if sample[j]<sample[i]:\n",
    "            I+=1\n",
    "\n",
    "M_I = size*(size-1)/4\n",
    "D_I = size**3/36\n",
    "print(\"I =\",I,\";M_I =\", M_I,\";D_I =\", D_I)\n",
    "a = (I-M_I)/math.sqrt(D_I)\n",
    "print(\"a =\",a)"
   ]
  },
  {
   "cell_type": "code",
   "execution_count": 131,
   "metadata": {},
   "outputs": [
    {
     "name": "stdout",
     "output_type": "stream",
     "text": [
      "0.6671974320369998\n",
      "Впринципе нормальный генератор\n"
     ]
    }
   ],
   "source": [
    "P = trapezoidal(norm_rv.pdf,abs(a),1000,10000)+trapezoidal(norm_rv.pdf,-1000,-abs(a),10000)\n",
    "print(P)\n",
    "if P > 0.05:\n",
    "    print(\"В принципе нормальный генератор\")\n",
    "else:\n",
    "    print(\"Плохой\")"
   ]
  },
  {
   "cell_type": "code",
   "execution_count": null,
   "metadata": {},
   "outputs": [],
   "source": []
  },
  {
   "cell_type": "code",
   "execution_count": null,
   "metadata": {},
   "outputs": [],
   "source": []
  },
  {
   "cell_type": "code",
   "execution_count": null,
   "metadata": {},
   "outputs": [],
   "source": []
  },
  {
   "cell_type": "code",
   "execution_count": null,
   "metadata": {},
   "outputs": [],
   "source": []
  },
  {
   "cell_type": "code",
   "execution_count": null,
   "metadata": {},
   "outputs": [],
   "source": []
  }
 ],
 "metadata": {
  "kernelspec": {
   "display_name": "Python 3",
   "language": "python",
   "name": "python3"
  },
  "language_info": {
   "codemirror_mode": {
    "name": "ipython",
    "version": 3
   },
   "file_extension": ".py",
   "mimetype": "text/x-python",
   "name": "python",
   "nbconvert_exporter": "python",
   "pygments_lexer": "ipython3",
   "version": "3.6.5"
  }
 },
 "nbformat": 4,
 "nbformat_minor": 2
}
