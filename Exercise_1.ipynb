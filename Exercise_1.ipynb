{
 "cells": [
  {
   "cell_type": "code",
   "execution_count": 1,
   "metadata": {},
   "outputs": [],
   "source": [
    "import pandas\n",
    "import numpy\n",
    "import matplotlib.pyplot as pyplot\n",
    "import scipy.stats\n",
    "import statistics\n",
    "import math\n",
    "import random\n",
    "%matplotlib inline"
   ]
  },
  {
   "cell_type": "markdown",
   "metadata": {},
   "source": [
    "# 1 задача"
   ]
  },
  {
   "cell_type": "code",
   "execution_count": 2,
   "metadata": {},
   "outputs": [],
   "source": [
    "real_theta = 197\n",
    "uniform_rv = scipy.stats.uniform( 0, real_theta-0 )\n",
    "size = 100\n",
    "sample = uniform_rv.rvs( size )\n"
   ]
  },
  {
   "cell_type": "code",
   "execution_count": 3,
   "metadata": {},
   "outputs": [
    {
     "data": {
      "image/png": "[encoded data removed]",
      "text/plain": [
       "<Figure size 1224x720 with 1 Axes>"
      ]
     },
     "metadata": {},
     "output_type": "display_data"
    }
   ],
   "source": [
    "y_1, y_2, y_3, y_4, y_5 = [], [], [], [], []\n",
    "for i in range(1,size+1):\n",
    "    theta_1 = 2 * statistics.mean(sample[:i])\n",
    "    theta_2 = (i+1)*min(sample[:i])\n",
    "    theta_3 = (i+1)/i*max(sample[:i])\n",
    "    theta_4 = min(sample[:i]) + max(sample[:i])\n",
    "    if i != 1:\n",
    "        theta_5 = sample[0] + statistics.mean(sample[1:i])\n",
    "    else:\n",
    "        theta_5 = sample[0]\n",
    "    y_1.append( abs(theta_1 - real_theta) )\n",
    "    y_2.append( abs(theta_2 - real_theta) )\n",
    "    y_3.append( abs(theta_3 - real_theta) )\n",
    "    y_4.append( abs(theta_4 - real_theta) )\n",
    "    y_5.append( abs(theta_5 - real_theta) )\n",
    "n = list(range(1,101))\n",
    "pyplot.figure( figsize=(17,10) )\n",
    "pyplot.scatter(n, y_1, label = \"$|θ_1-θ|$\")\n",
    "pyplot.xlabel('$n$')\n",
    "pyplot.scatter(n,y_2, label = \"$|θ_2-θ|$\")\n",
    "pyplot.scatter(n,y_3, label = \"$|θ_3-θ|$\")\n",
    "pyplot.scatter(n,y_4, label = \"$|θ_4-θ|$\")\n",
    "pyplot.scatter(n, y_5, label = \"$|θ_5-θ|$\")\n",
    "pyplot.legend()\n",
    "pyplot.show()"
   ]
  },
  {
   "cell_type": "code",
   "execution_count": null,
   "metadata": {},
   "outputs": [],
   "source": []
  },
  {
   "cell_type": "markdown",
   "metadata": {},
   "source": [
    "# 2 задача"
   ]
  },
  {
   "cell_type": "code",
   "execution_count": 4,
   "metadata": {},
   "outputs": [],
   "source": [
    "#функция распределения вероятности\n",
    "def my_gamma(x,th = 3):\n",
    "    return -numpy.exp(-x/th)+1\n",
    "# не нужно"
   ]
  },
  {
   "cell_type": "markdown",
   "metadata": {},
   "source": [
    "# 3 задача"
   ]
  },
  {
   "cell_type": "code",
   "execution_count": 5,
   "metadata": {},
   "outputs": [],
   "source": [
    "real_theta = 85\n",
    "uniform_rv = scipy.stats.uniform( 0, real_theta-0 )\n",
    "size = 100\n",
    "sample = uniform_rv.rvs( size )\n",
    "beta = 0.95\n",
    "theta_1 = 2*statistics.mean(sample)\n",
    "theta_2 = (size+1)/size*max(sample)"
   ]
  },
  {
   "cell_type": "code",
   "execution_count": 6,
   "metadata": {},
   "outputs": [],
   "source": [
    "#Точный доверительный интервал"
   ]
  },
  {
   "cell_type": "code",
   "execution_count": 7,
   "metadata": {},
   "outputs": [
    {
     "name": "stdout",
     "output_type": "stream",
     "text": [
      "Оценка методом максимального правдоподобия theta_2 = 84.47476232854254\n",
      "Точный доверительный интервал для theta_2 ( beta = 0.95 ): 83.08167785884903 < θ < 86.18186829739997\n",
      "Длина доверительного интервала = 3.100190438550939\n"
     ]
    }
   ],
   "source": [
    "a = max(sample)/(1+beta)**(1/size)\n",
    "b = max(sample)/(1-beta)**(1/size)\n",
    "print(\"Оценка методом максимального правдоподобия theta_2 =\",theta_2)\n",
    "print(\"Точный доверительный интервал для theta_2 ( beta =\", beta,\"):\",a,\"< θ <\",b)\n",
    "print(\"Длина доверительного интервала =\",b-a)"
   ]
  },
  {
   "cell_type": "code",
   "execution_count": 20,
   "metadata": {},
   "outputs": [
    {
     "name": "stdout",
     "output_type": "stream",
     "text": [
      "Бутстреповский доверительный интервал для theta_2 ( beta = 0.95 ): 81.4706185529177 < θ < 87.47890610416738\n",
      "Длина доверительного интервала = 6.00828755124968\n"
     ]
    }
   ],
   "source": [
    "#bootstrap для оценки максимального правдоподобия\n",
    "k = 1000 #количество выборок\n",
    "sample_theta_bootstrap = []\n",
    "for _ in range(k):\n",
    "    random.seed( version=2) \n",
    "    bootstrap = [sample[random.randint(0,size-1)] for _ in range(size)]\n",
    "    theta_bootstrap = (size+1)/size*max(bootstrap)\n",
    "    #theta_bootstrap = 2*statistics.mean(bootstrap)\n",
    "    sample_theta_bootstrap.append(abs(theta_bootstrap - theta_2))\n",
    "sample_theta_bootstrap.sort()\n",
    "eps = sample_theta_bootstrap[int(beta*k)+1]\n",
    "print(\"Бутстреповский доверительный интервал для theta_2 ( beta =\",beta,\"):\",theta_2-eps,\"< θ <\",theta_2+eps)\n",
    "print(\"Длина доверительного интервала =\",2*eps)"
   ]
  },
  {
   "cell_type": "code",
   "execution_count": null,
   "metadata": {},
   "outputs": [],
   "source": []
  },
  {
   "cell_type": "markdown",
   "metadata": {},
   "source": [
    "# 4 задача"
   ]
  },
  {
   "cell_type": "code",
   "execution_count": 7,
   "metadata": {},
   "outputs": [],
   "source": [
    "real_theta = 30\n",
    "size = 1000\n",
    "beta = 0.95\n",
    "\n",
    "pareto_rv = scipy.stats.pareto(real_theta-1)\n",
    "sample = pareto_rv.rvs( size )\n",
    "theta = 1+size/sum(numpy.log(sample))"
   ]
  },
  {
   "cell_type": "code",
   "execution_count": 8,
   "metadata": {},
   "outputs": [],
   "source": [
    "#находим квантили для точного доверительного интервала(гамма распределение)\n",
    "x = 0\n",
    "gamma_rv = scipy.stats.gamma(a = size)\n",
    "while abs(gamma_rv.cdf(x)-(1+beta)/2)>0.001:\n",
    "    x+=0.001\n",
    "    if abs(gamma_rv.cdf(x)-(1-beta)/2) <=0.001 :\n",
    "        quantile_1 = x\n",
    "quantile_2 = x\n"
   ]
  },
  {
   "cell_type": "code",
   "execution_count": 9,
   "metadata": {},
   "outputs": [
    {
     "name": "stdout",
     "output_type": "stream",
     "text": [
      "Оценка методом максимального правдоподобия theta = 29.765960777695238\n",
      "Точный доверительный интервал для theta ( beta = 0.95 ): 28.025131128871223 < θ < 31.560007452993933\n",
      "Длина доверительного интервала = 3.5348763241227097\n"
     ]
    }
   ],
   "source": [
    "a = 1 + quantile_1/size*(theta-1)\n",
    "b = 1 + quantile_2/size*(theta-1)\n",
    "print(\"Оценка методом максимального правдоподобия theta =\",theta )\n",
    "print(\"Точный доверительный интервал для theta ( beta =\", beta,\"):\",a,\"< θ <\",b )\n",
    "print(\"Длина доверительного интервала =\",b-a)\n",
    "len_precise = b-a"
   ]
  },
  {
   "cell_type": "code",
   "execution_count": 24,
   "metadata": {},
   "outputs": [],
   "source": [
    "#находим квантили для нормального распределения (0,1)\n",
    "mu = 0\n",
    "sigma = 1\n",
    "norm_rv = scipy.stats.norm(loc=mu, scale=sigma)\n",
    "x = -10\n",
    "while abs(norm_rv.cdf(x)-(1-beta)/2)>0.0001:\n",
    "    x+=0.001\n",
    "quantile_norm_2 = -x\n",
    "quantile_norm_1 = x\n"
   ]
  },
  {
   "cell_type": "code",
   "execution_count": 25,
   "metadata": {},
   "outputs": [
    {
     "name": "stdout",
     "output_type": "stream",
     "text": [
      "Асимптотический доверительный интервал для theta ( beta = 0.95 ): 1.7604110582961248 < θ < 2.1313940376016847\n",
      "Длина доверительного интервала = 0.3709829793055599\n"
     ]
    }
   ],
   "source": [
    "a_1 = theta - (theta-1)/math.sqrt(size)*quantile_norm_2\n",
    "b_1 = theta + (theta-1)/math.sqrt(size)*quantile_norm_2\n",
    "print(\"Асимптотический доверительный интервал для theta ( beta =\", beta,\"):\",a_1,\"< θ <\",b_1)\n",
    "print(\"Длина доверительного интервала =\",b_1-a_1)\n",
    "len_asymptotic = b_1 - a_1"
   ]
  },
  {
   "cell_type": "code",
   "execution_count": 40,
   "metadata": {},
   "outputs": [
    {
     "name": "stdout",
     "output_type": "stream",
     "text": [
      "Бутстреповский доверительный интервал для theta ( beta = 0.95 ): 1.7748240768230823 < θ < 2.116981019074727\n",
      "Длина бутстреповского доверительного интервала = 0.34215694225164484\n"
     ]
    }
   ],
   "source": [
    "#bootstrap для оценки максимального правдоподобия\n",
    "k = 1000 #количество выборок\n",
    "sample_theta_bootstrap = []\n",
    "for _ in range(k):\n",
    "    bootstrap = [sample[random.randint(0,size-1)] for _ in range(size)]\n",
    "    theta_bootstrap = 1+size/sum(numpy.log(bootstrap))\n",
    "    sample_theta_bootstrap.append(abs(theta_bootstrap - theta))\n",
    "sample_theta_bootstrap.sort()\n",
    "eps = sample_theta_bootstrap[int(beta*k)+1]\n",
    "print(\"Бутстреповский доверительный интервал для theta ( beta =\",beta,\"):\",theta-eps,\"< θ <\",theta+eps)\n",
    "print(\"Длина бутстреповского доверительного интервала =\",2*eps)\n",
    "len_bootstrap = 2*eps"
   ]
  },
  {
   "cell_type": "code",
   "execution_count": 41,
   "metadata": {},
   "outputs": [
    {
     "name": "stdout",
     "output_type": "stream",
     "text": [
      "Самый длинный доверительный интервал = 0.3709829793055599\n",
      "Самый короткий доверительный интервал = 0.34215694225164484\n"
     ]
    }
   ],
   "source": [
    "lenths =[len_bootstrap, len_asymptotic, len_precise]\n",
    "print(\"Самый длинный доверительный интервал =\",max(lenths))\n",
    "print(\"Самый короткий доверительный интервал =\",min(lenths))"
   ]
  },
  {
   "cell_type": "code",
   "execution_count": null,
   "metadata": {},
   "outputs": [],
   "source": []
  }
 ],
 "metadata": {
  "kernelspec": {
   "display_name": "Python 3",
   "language": "python",
   "name": "python3"
  },
  "language_info": {
   "codemirror_mode": {
    "name": "ipython",
    "version": 3
   },
   "file_extension": ".py",
   "mimetype": "text/x-python",
   "name": "python",
   "nbconvert_exporter": "python",
   "pygments_lexer": "ipython3",
   "version": "3.6.5"
  }
 },
 "nbformat": 4,
 "nbformat_minor": 2
}
