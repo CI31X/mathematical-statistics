{
 "cells": [
  {
   "cell_type": "code",
   "execution_count": 1,
   "metadata": {},
   "outputs": [],
   "source": [
    "import statistics\n",
    "import matplotlib.pyplot as pyplot\n",
    "import math\n",
    "import numpy\n",
    "import scipy.stats\n",
    "import random\n",
    "%matplotlib inline\n"
   ]
  },
  {
   "cell_type": "code",
   "execution_count": 2,
   "metadata": {},
   "outputs": [],
   "source": [
    "size = 50\n",
    "alpha = 0.05\n",
    "beta_probability = 1 - alpha # доверительная вероятность\n",
    "x = numpy.array([0.5, 0.56, 0.61, 0.65, 0.71, 0.75, 0.79, 0.84, 0.92, 0.94, 0.98, 1.06, 1.09, 1.19, 1.2, 1.29, 1.32, 1.36, 1.39, 1.46,\n",
    "    1.54, 1.57, 1.62, 1.69, 1.74, 1.76, 1.79, 1.85, 1.95, 1.98, 2.05, 2.07, 2.1, 2.18, 2.21, 2.29, 2.34, 2.42, 2.46, 2.48,\n",
    "     2.53, 2.56, 2.62, 2.67, 2.75, 2.82, 2.81, 2.91, 2.95, 3.03])\n",
    "y = numpy.array([7.34,3.32,6.11,5.65,8.99,4.94,6.9,4.95,7.08,6.26,4.77,8.21,6.55,4.41,4.86,3.38,3.21,2.69,6.57,3.73,\n",
    "     5.43,2.72,3.08,5.13,5.0,1.39,3.75,1.67,4.06,1.37,3.7,-0.61,-2.81,-0.32,-1.68,-3.37,0.36,-4.1,-2.21,-3.45,\n",
    "     -5.08,-6.45,-2.7,-1.23,-10.51,-10.57,-4.42,-4.71,-4.01,-7.87])\n"
   ]
  },
  {
   "cell_type": "markdown",
   "metadata": {},
   "source": [
    "## 1) выборочный коэффициент корреляции r"
   ]
  },
  {
   "cell_type": "code",
   "execution_count": 3,
   "metadata": {},
   "outputs": [
    {
     "name": "stdout",
     "output_type": "stream",
     "text": [
      "Выборочный коэффициент корреляции =  -0.8845625988243726\n"
     ]
    }
   ],
   "source": [
    "var_x = numpy.var(x) #дисперсия\n",
    "cov_xy = numpy.cov(x,y, bias = True)[0][1]\n",
    "var_y = numpy.var(y)\n",
    "r = cov_xy/(math.sqrt(var_x * var_y))\n",
    "print( \"Выборочный коэффициент корреляции = \", r )"
   ]
  },
  {
   "cell_type": "code",
   "execution_count": 4,
   "metadata": {},
   "outputs": [
    {
     "name": "stdout",
     "output_type": "stream",
     "text": [
      "Опровергаем гипотезу, что r = 0 с вероятностью  0.95\n"
     ]
    }
   ],
   "source": [
    "norm_rv = scipy.stats.norm(loc=0, scale=1)\n",
    "quantile_norm = norm_rv.ppf(1-alpha/2)\n",
    "if abs(r) >= math.tanh(quantile_norm/math.sqrt(size-3)):\n",
    "    print(\"Опровергаем гипотезу, что r = 0 с вероятностью \",1-alpha)\n",
    "else:\n",
    "    print(\"Гипотеза о существовании линейной связи между x и y не подтверждается\")"
   ]
  },
  {
   "cell_type": "markdown",
   "metadata": {},
   "source": [
    "## 2) уравнение лин регрессии и проверка значимости коэффициентов"
   ]
  },
  {
   "cell_type": "code",
   "execution_count": 5,
   "metadata": {},
   "outputs": [],
   "source": [
    "def f1(x):\n",
    "    return x-1\n",
    "def f2(x):\n",
    "    return x**2\n",
    "def f3(x):\n",
    "    return x**(1/3)"
   ]
  },
  {
   "cell_type": "code",
   "execution_count": 6,
   "metadata": {},
   "outputs": [
    {
     "name": "stdout",
     "output_type": "stream",
     "text": [
      "Уравнение линейной регрессии y = -1.1823442710676093 * (x-1) + -1.8737093842211485 * (x^2) + 7.689352740929896 * x^(1/3)\n"
     ]
    }
   ],
   "source": [
    "psi = numpy.column_stack((f1(x),f2(x),f3(x))) #матрица наблюдений\n",
    "f = numpy.dot( psi.transpose(),psi ) # или R = A @ B @ C \n",
    "f_reversed = numpy.linalg.inv(f)\n",
    "beta = f_reversed @ psi.transpose() @ y.transpose()\n",
    "print(\"Уравнение линейной регрессии y =\",beta[0],\"* (x-1) +\",beta[1],\"* (x^2) +\",beta[2],\"* x^(1/3)\")\n",
    "def linear_regression(x):\n",
    "    return beta[0]*f1(x) + beta[1]*f2(x) + beta[2]*f3(x)"
   ]
  },
  {
   "cell_type": "code",
   "execution_count": 7,
   "metadata": {},
   "outputs": [
    {
     "name": "stdout",
     "output_type": "stream",
     "text": [
      "H0: beta[i] = 0\n",
      "Критическая область: abs(beta[0]) =   1.1823442710676093  >  3.827025667210669\n",
      "Принимаем H0 -> коэффициент не значим\n",
      "Критическая область: abs(beta[1]) =   1.8737093842211485  >  1.1305186646747083\n",
      "Отклоняем H0 ( т.е коэффициент не равен 0 ) -> коэффициент значим\n",
      "Критическая область: abs(beta[2]) =   7.689352740929896  >  1.366899092400253\n",
      "Отклоняем H0 ( т.е коэффициент не равен 0 ) -> коэффициент значим\n"
     ]
    }
   ],
   "source": [
    "RSS = ( y - ( psi @ beta) ) @ ( y - ( psi @ beta) )\n",
    "RSS_old = RSS.copy()\n",
    "p = numpy.linalg.matrix_rank(psi)  # ранг матрицы пси\n",
    "p_old = p.copy()\n",
    "student_rv = scipy.stats.t(size - p )  #стьюдент\n",
    "quantile_t = student_rv.ppf(1-alpha/2)\n",
    "print(\"H0: beta[i] = 0\")\n",
    "for i in range(3):\n",
    "    temp = quantile_t * math.sqrt(RSS * f_reversed[i][i]/(size - p))\n",
    "    print(\"Критическая область: abs(beta[{}]) =  \".format(i), abs(beta[i]), \" > \", temp)\n",
    "    if abs(beta[i]) > temp:\n",
    "        print(\"Отклоняем H0 ( т.е коэффициент не равен 0 ) -> коэффициент значим\")\n",
    "    else:\n",
    "        print(\"Принимаем H0 -> коэффициент не значим\")"
   ]
  },
  {
   "cell_type": "markdown",
   "metadata": {},
   "source": [
    "## 3) Оценка дисперсии ошибок и доверительный интервал для дисперсии ошибок"
   ]
  },
  {
   "cell_type": "code",
   "execution_count": 8,
   "metadata": {},
   "outputs": [
    {
     "name": "stdout",
     "output_type": "stream",
     "text": [
      "Доверительная вероятность = 0.95\n",
      "Доверительный интервал: 2.871494265981603 < 4.143544658094541 < 6.501045760227614\n"
     ]
    }
   ],
   "source": [
    "sigma = RSS / ( size-p )\n",
    "chi2_rv = scipy.stats.chi2(size - p)\n",
    "quantile_chi2_a = chi2_rv.ppf((1-beta_probability)/2)\n",
    "quantile_chi2_b = chi2_rv.ppf((1+beta_probability)/2)\n",
    "print(\"Доверительная вероятность =\", beta_probability)\n",
    "print(\"Доверительный интервал: {} < {} < {}\".format(RSS/quantile_chi2_b,sigma,RSS/quantile_chi2_a))"
   ]
  },
  {
   "cell_type": "markdown",
   "metadata": {},
   "source": [
    "## 4) Коэффициент детерминации и проверка его значимости"
   ]
  },
  {
   "cell_type": "code",
   "execution_count": 9,
   "metadata": {},
   "outputs": [
    {
     "name": "stdout",
     "output_type": "stream",
     "text": [
      "83.54785556204422 % - доля дисперсии Y, которая объясняется регрессией \n",
      "Критическая область: 119.33852228883012 > 3.195056280737215\n",
      "Принимаем H_1: регрессия является значимой\n"
     ]
    }
   ],
   "source": [
    "RSS_0 = numpy.var(y) * size\n",
    "R = (RSS_0 - RSS)/RSS_0 # коэф детерминации\n",
    "print(\"{} % - доля дисперсии Y, которая объясняется регрессией \".format(R*100))\n",
    "fisher_rv = scipy.stats.f(p-1, size - p)\n",
    "quantile_f = fisher_rv.ppf(1-alpha)\n",
    "G_cr = (RSS_0 - RSS)/RSS*(size - p)/(p-1)\n",
    "print(\"Критическая область: {} > {}\".format(G_cr,quantile_f))\n",
    "if G_cr > quantile_f:\n",
    "    print(\"Принимаем H_1: регрессия является значимой\")\n",
    "else:\n",
    "    print(\"Принимаем H_0: регрессия не является значимой\")"
   ]
  },
  {
   "cell_type": "markdown",
   "metadata": {},
   "source": [
    "## 5) Проверка предположения о независимости ошибок измерения"
   ]
  },
  {
   "cell_type": "code",
   "execution_count": 10,
   "metadata": {},
   "outputs": [
    {
     "name": "stdout",
     "output_type": "stream",
     "text": [
      "Критическая область: 0.17819090885900998 > 1.959963984540054\n",
      "Не попали в критическую область -> принимаем H0: ошибки случайны -> eps независимы\n"
     ]
    }
   ],
   "source": [
    "eps = y - linear_regression(x)\n",
    "norm_rv = scipy.stats.norm(loc=0, scale=1)\n",
    "quantile_norm = norm_rv.ppf(1-alpha/2)\n",
    "#ищем количество инверсий\n",
    "I = 0\n",
    "for i in range(size):\n",
    "    for j in range(i,size):\n",
    "        if eps[j]<eps[i]:\n",
    "            I+=1\n",
    "M_I = size*(size-1)/4\n",
    "D_I = (size**3)/36\n",
    "temp = (I-M_I)/math.sqrt(D_I)\n",
    "print(\"Критическая область: {} > {}\".format(abs(temp),quantile_norm))\n",
    "if abs(temp) > quantile_norm:\n",
    "    print(\"Попали в критическую область -> принимаем H1: ошибки неслучайны -> eps зависимы\")\n",
    "else:\n",
    "    print(\"Не попали в критическую область -> принимаем H0: ошибки случайны -> eps независимы\")"
   ]
  },
  {
   "cell_type": "markdown",
   "metadata": {},
   "source": [
    "## 6) Проверка предположения о нормальности распределения ошибок"
   ]
  },
  {
   "cell_type": "code",
   "execution_count": 11,
   "metadata": {},
   "outputs": [],
   "source": [
    "k = 1 + numpy.log(size)"
   ]
  },
  {
   "cell_type": "code",
   "execution_count": null,
   "metadata": {},
   "outputs": [],
   "source": []
  },
  {
   "cell_type": "markdown",
   "metadata": {},
   "source": [
    "## 7) Доверительная полоса для уравнения регрессии + графики"
   ]
  },
  {
   "cell_type": "code",
   "execution_count": 12,
   "metadata": {},
   "outputs": [],
   "source": [
    "psi = numpy.column_stack((f1(x),f2(x),f3(x))) #матрица наблюдений\n",
    "f = numpy.dot( psi.transpose(),psi ) # или R = A @ B @ C \n",
    "f_reversed = numpy.linalg.inv(f)\n",
    "beta = f_reversed @ psi.transpose() @ y.transpose()\n",
    "RSS = ( y - ( psi @ beta) ) @ ( y - ( psi @ beta) )\n",
    "p = numpy.linalg.matrix_rank(psi)  # ранг матрицы пси\n",
    "beta = f_reversed @ psi.transpose() @ y.transpose()\n",
    "quantile_t = scipy.stats.t(size - p ).ppf(1-alpha/2) #стьюдент\n",
    "def confidence_regression_bottom(x):\n",
    "    fi = numpy.column_stack([f1(x),f2(x),f3(x)])\n",
    "    A_temp = fi @ f_reversed @ fi.transpose()\n",
    "    return linear_regression(x) - quantile_t*beta_probability*numpy.sqrt(1 + A_temp.diagonal() )*math.sqrt(RSS/(size-p))\n",
    "def confidence_regression_upper(x):\n",
    "    fi = numpy.column_stack([f1(x),f2(x),f3(x)])\n",
    "    A_temp = fi @ f_reversed @ fi.transpose()\n",
    "    return linear_regression(x) + quantile_t*beta_probability*numpy.sqrt(1 + A_temp.diagonal() )*math.sqrt(RSS/(size-p))\n",
    "           "
   ]
  },
  {
   "cell_type": "code",
   "execution_count": 13,
   "metadata": {},
   "outputs": [
    {
     "data": {
      "image/png": "[encoded data removed]",
      "text/plain": [
       "<Figure size 1224x720 with 1 Axes>"
      ]
     },
     "metadata": {},
     "output_type": "display_data"
    }
   ],
   "source": [
    "pyplot.figure( figsize=(17,10) )\n",
    "pyplot.scatter(x,y,s=10)\n",
    "pyplot.plot(x,linear_regression(x), label = \"regression\")\n",
    "pyplot.plot(x,confidence_regression_bottom(x), label = \"bottom\")\n",
    "pyplot.plot(x,confidence_regression_upper(x), label = \"upper\")\n",
    "pyplot.legend(prop={'size': 40})\n",
    "pyplot.legend()\n",
    "pyplot.show()"
   ]
  },
  {
   "cell_type": "markdown",
   "metadata": {},
   "source": [
    "## 8) Удалить незначимый коэффициент и повторить 2,3,4"
   ]
  },
  {
   "cell_type": "markdown",
   "metadata": {},
   "source": [
    "Удаляем f1 = 1-x"
   ]
  },
  {
   "cell_type": "code",
   "execution_count": 14,
   "metadata": {},
   "outputs": [
    {
     "name": "stdout",
     "output_type": "stream",
     "text": [
      "Уравнение линейной регрессии y = -2.212224077602007 * (x^2) + 7.96335161667931 * x^(1/3)\n"
     ]
    }
   ],
   "source": [
    "# 1) выборочный коэффициент корреляции r\n",
    "psi = numpy.column_stack((f2(x),f3(x))) #матрица наблюдений\n",
    "f = numpy.dot( psi.transpose(),psi ) # или R = A @ B @ C \n",
    "f_reversed = numpy.linalg.inv(f)\n",
    "beta = f_reversed @ psi.transpose() @ y.transpose()\n",
    "print(\"Уравнение линейной регрессии y =\",beta[0],\"* (x^2) +\",beta[1],\"* x^(1/3)\")\n",
    "def linear_regression_new(x):\n",
    "    return beta[0]*f2(x) + beta[1]*f3(x)"
   ]
  },
  {
   "cell_type": "code",
   "execution_count": 15,
   "metadata": {},
   "outputs": [
    {
     "name": "stdout",
     "output_type": "stream",
     "text": [
      "H0: beta[i] = 0\n",
      "Критическая область: abs(beta[0]) =   2.212224077602007  >  0.27644325889658006\n",
      "Отклоняем H0 ( т.е коэффициент не равен 0 ) -> коэффициент значим\n",
      "Критическая область: abs(beta[1]) =   7.96335161667931  >  1.032882438131383\n",
      "Отклоняем H0 ( т.е коэффициент не равен 0 ) -> коэффициент значим\n"
     ]
    }
   ],
   "source": [
    "# 2) уравнение лин регрессии и проверка значимости коэффициентов\n",
    "RSS = ( y - ( psi @ beta) ) @ ( y - ( psi @ beta) )\n",
    "RSS_new = RSS.copy()\n",
    "p = numpy.linalg.matrix_rank(psi)  # ранг матрицы пси\n",
    "p_new = p.copy()\n",
    "student_rv = scipy.stats.t(size - p )  #стьюдент\n",
    "quantile_t = student_rv.ppf(1-alpha/2)\n",
    "print(\"H0: beta[i] = 0\")\n",
    "for i in range(2):\n",
    "    temp = quantile_t * math.sqrt(RSS * f_reversed[i][i]/(size - p))\n",
    "    print(\"Критическая область: abs(beta[{}]) =  \".format(i), abs(beta[i]), \" > \", temp)\n",
    "    if abs(beta[i]) > temp:\n",
    "        print(\"Отклоняем H0 ( т.е коэффициент не равен 0 ) -> коэффициент значим\")\n",
    "    else:\n",
    "        print(\"Принимаем H0 -> коэффициент не значим\")"
   ]
  },
  {
   "cell_type": "code",
   "execution_count": 16,
   "metadata": {},
   "outputs": [
    {
     "name": "stdout",
     "output_type": "stream",
     "text": [
      "Доверительная вероятность = 0.95\n",
      "Доверительный интервал: 2.8446803371791898 < 4.0905665128568085 < 6.384339077746481\n"
     ]
    }
   ],
   "source": [
    "# 3)Оценка дисперсии ошибок и доверительный интервал для дисперсии ошибок\n",
    "sigma = RSS / ( size-p )\n",
    "chi2_rv = scipy.stats.chi2(size - p)\n",
    "quantile_chi2_a = chi2_rv.ppf((1-beta_probability)/2)\n",
    "quantile_chi2_b = chi2_rv.ppf((1+beta_probability)/2)\n",
    "print(\"Доверительная вероятность =\", beta_probability)\n",
    "print(\"Доверительный интервал: {} < {} < {}\".format(RSS/quantile_chi2_b,sigma,RSS/quantile_chi2_a))"
   ]
  },
  {
   "cell_type": "code",
   "execution_count": 17,
   "metadata": {},
   "outputs": [
    {
     "name": "stdout",
     "output_type": "stream",
     "text": [
      "83.54785556204422 % - доля дисперсии Y, которая объясняется регрессией \n",
      "Критическая область: 241.37693306771476 > 4.042652128566653\n",
      "Принимаем H_1: регрессия является значимой\n"
     ]
    }
   ],
   "source": [
    "# 4) Коэффициент детерминации и проверка его значимости\n",
    "RSS_0 = numpy.var(y) * size\n",
    "R_new = (RSS_0 - RSS)/RSS_0 # коэф детерминации\n",
    "print(\"{} % - доля дисперсии Y, которая объясняется регрессией \".format(R*100))\n",
    "fisher_rv = scipy.stats.f(p-1, size - p)\n",
    "quantile_f = fisher_rv.ppf(1-alpha)\n",
    "G_cr = (RSS_0 - RSS)/RSS*(size - p)/(p-1)\n",
    "print(\"Критическая область: {} > {}\".format(G_cr,quantile_f))\n",
    "if G_cr > quantile_f:\n",
    "    print(\"Принимаем H_1: регрессия является значимой\")\n",
    "else:\n",
    "    print(\"Принимаем H_0: регрессия не является значимой\")"
   ]
  },
  {
   "cell_type": "code",
   "execution_count": 18,
   "metadata": {},
   "outputs": [
    {
     "name": "stdout",
     "output_type": "stream",
     "text": [
      "H_0: усложение модели не значимо\n",
      "Критическая область: 0.386286095301661 > 4.0470998945817005\n",
      "Не попали в критическую область -> принимаем H0: то есть принимаем новую модель\n"
     ]
    }
   ],
   "source": [
    "# сравнить коэффициенты детерминации\n",
    "fisher_rv = scipy.stats.f(p_old - p_new, size - p_old)\n",
    "quantile_f = fisher_rv.ppf(1-alpha)\n",
    "G_cr = (RSS_new-RSS_old)/RSS_old*(size-p_old)/(p_old-p_new)\n",
    "print(\"H_0: усложение модели не значимо\")\n",
    "print(\"Критическая область: {} > {}\".format(G_cr, quantile_f))\n",
    "if G_cr > quantile_f:\n",
    "    print(\"Попали в критическую область -> принимаем H1: то есть старая модель лучше\")\n",
    "else:\n",
    "    print(\"Не попали в критическую область -> принимаем H0: то есть принимаем новую модель\")"
   ]
  },
  {
   "cell_type": "markdown",
   "metadata": {},
   "source": [
    "## 9) В новом базисе проверяем значимость коэффициентов регрессии и значимость коэффициента детерминации бутстрепом\n",
    "        "
   ]
  },
  {
   "cell_type": "code",
   "execution_count": 36,
   "metadata": {},
   "outputs": [
    {
     "name": "stdout",
     "output_type": "stream",
     "text": [
      "H0: beta[i] = 0\n",
      "Критическая область: abs(beta[0]) =   2.212224077602007  >  0.315959207665617\n",
      "Отклоняем H0 ( т.е коэффициент не равен 0 ) -> коэффициент значим\n",
      "Критическая область: abs(beta[1]) =   7.96335161667931  >  0.8948816652887519\n",
      "Отклоняем H0 ( т.е коэффициент не равен 0 ) -> коэффициент значим\n"
     ]
    }
   ],
   "source": [
    "# значимость коэффициентов регрессии бустрепом\n",
    "k = 1000\n",
    "sample_bootstrap_beta_0 = []\n",
    "sample_bootstrap_beta_1 = []\n",
    "for _ in range(k):\n",
    "    bootstrap_i = numpy.array([random.randint(0,size-1) for _ in range(size)])\n",
    "    bootstrap_x = x[bootstrap_i]\n",
    "    bootstrap_y = y[bootstrap_i]\n",
    "    bootstrap_psi = numpy.column_stack((f2(bootstrap_x),f3(bootstrap_x)))\n",
    "    bootstrap_f = numpy.dot( bootstrap_psi.transpose(),bootstrap_psi )\n",
    "    bootstrap_f_reversed = numpy.linalg.inv(bootstrap_f)\n",
    "    bootstrap_beta = bootstrap_f_reversed @ bootstrap_psi.transpose() @ bootstrap_y.transpose()\n",
    "    sample_bootstrap_beta_0.append(abs(beta[0]-bootstrap_beta[0]))\n",
    "    sample_bootstrap_beta_1.append(abs(beta[1]-bootstrap_beta[1]))\n",
    "sample_bootstrap_beta_0.sort()\n",
    "sample_bootstrap_beta_1.sort()\n",
    "delta_beta_0 = sample_bootstrap_beta_0[int(beta_probability*k)-1]\n",
    "delta_beta_1 = sample_bootstrap_beta_1[int(beta_probability*k)-1]\n",
    "print(\"H0: beta[i] = 0\")\n",
    "print(\"Критическая область: abs(beta[{}]) =  \".format(0), abs(beta[0]), \" > \", delta_beta_0)\n",
    "if abs(beta[0]) > delta_beta_0:\n",
    "    print(\"Отклоняем H0 ( т.е коэффициент не равен 0 ) -> коэффициент значим\")\n",
    "else:\n",
    "    print(\"Принимаем H0 -> коэффициент не значим\")\n",
    "print(\"Критическая область: abs(beta[{}]) =  \".format(1), abs(beta[1]), \" > \", delta_beta_1)\n",
    "if abs(beta[1]) > delta_beta_1:\n",
    "    print(\"Отклоняем H0 ( т.е коэффициент не равен 0 ) -> коэффициент значим\")\n",
    "else:\n",
    "    print(\"Принимаем H0 -> коэффициент не значим\")"
   ]
  },
  {
   "cell_type": "code",
   "execution_count": null,
   "metadata": {},
   "outputs": [],
   "source": [
    "# значимость коэффициента детерминации бутстрепом\n",
    "k = 1000\n",
    "\n",
    "for _ in range(k):\n",
    "    RSS_0 = numpy.var(y) * size\n",
    "    R_new = (RSS_0 - RSS)/RSS_0 # коэф детерминации\n",
    "    print(\"{} % - доля дисперсии Y, которая объясняется регрессией \".format(R*100))"
   ]
  },
  {
   "cell_type": "code",
   "execution_count": null,
   "metadata": {},
   "outputs": [],
   "source": []
  },
  {
   "cell_type": "code",
   "execution_count": null,
   "metadata": {},
   "outputs": [],
   "source": []
  },
  {
   "cell_type": "code",
   "execution_count": null,
   "metadata": {},
   "outputs": [],
   "source": []
  },
  {
   "cell_type": "code",
   "execution_count": null,
   "metadata": {},
   "outputs": [],
   "source": []
  }
 ],
 "metadata": {
  "kernelspec": {
   "display_name": "Python 3",
   "language": "python",
   "name": "python3"
  },
  "language_info": {
   "codemirror_mode": {
    "name": "ipython",
    "version": 3
   },
   "file_extension": ".py",
   "mimetype": "text/x-python",
   "name": "python",
   "nbconvert_exporter": "python",
   "pygments_lexer": "ipython3",
   "version": "3.6.5"
  }
 },
 "nbformat": 4,
 "nbformat_minor": 2
}
